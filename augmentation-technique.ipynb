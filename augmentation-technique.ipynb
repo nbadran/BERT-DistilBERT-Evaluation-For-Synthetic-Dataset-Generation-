import os
import pandas as pd
from openai import OpenAI

# Load the dataset
file_path = '/content/new-dreaddit-train.csv'
df_filtered = pd.read_csv(file_path)

# Function to generate inspirational content using the new API
def generate_inspirational_text(text):
    response = client.chat.completions.create(
        model="gpt-4o-mini",  # Use the appropriate model
        messages=[
            {"role": "system", "content": "You are a helpful assistant."},
            {"role": "user", "content": f"Based on the given text, generate another text with a completely new theme, but be inspired by the original text and keep the sentiment of the old one in the new text. Original text: {text}"}
        ],
        max_tokens=150,
        temperature=0.7
    )
    return response.choices[0].message.content.strip()  # Corrected line

# Generate inspirational texts
inspirational_data = []
for index, row in df_filtered.iterrows():
    inspirational_text = generate_inspirational_text(row['text'])
    inspirational_data.append({
        'text': row['text'],
        'inspirational_text': inspirational_text,
        'sentiment': row['sentiment'],
        'confidence': row['confidence'],
        'subreddit': row['subreddit'],
        'label': row['label']
    })

# Save to a CSV file
inspirational_df = pd.DataFrame(inspirational_data)
output_file_path = '/content/inspi-dreaddit-train.csv'
inspirational_df.to_csv(output_file_path, index=False)

print("Inspirational records saved to 'inspirational-dreaddit-train.csv'")
